{
 "cells": [
  {
   "cell_type": "markdown",
   "metadata": {},
   "source": [
    "Load Model"
   ]
  },
  {
   "cell_type": "code",
   "execution_count": 24,
   "metadata": {},
   "outputs": [],
   "source": [
    "import joblib\n",
    "import seaborn as sns\n",
    "import pandas as pd\n",
    "from sklearn.metrics import classification_report, confusion_matrix"
   ]
  },
  {
   "cell_type": "code",
   "execution_count": 25,
   "metadata": {},
   "outputs": [],
   "source": [
    "test_data = pd.read_csv('test_data.csv')"
   ]
  },
  {
   "cell_type": "code",
   "execution_count": 26,
   "metadata": {},
   "outputs": [],
   "source": [
    "X_test = test_data.drop(columns=['AQI_Bucket'])\n",
    "y_test = test_data['AQI_Bucket'].values"
   ]
  },
  {
   "cell_type": "code",
   "execution_count": 27,
   "metadata": {},
   "outputs": [
    {
     "data": {
      "text/html": [
       "<div>\n",
       "<style scoped>\n",
       "    .dataframe tbody tr th:only-of-type {\n",
       "        vertical-align: middle;\n",
       "    }\n",
       "\n",
       "    .dataframe tbody tr th {\n",
       "        vertical-align: top;\n",
       "    }\n",
       "\n",
       "    .dataframe thead th {\n",
       "        text-align: right;\n",
       "    }\n",
       "</style>\n",
       "<table border=\"1\" class=\"dataframe\">\n",
       "  <thead>\n",
       "    <tr style=\"text-align: right;\">\n",
       "      <th></th>\n",
       "      <th>CO</th>\n",
       "      <th>Toluene</th>\n",
       "      <th>NO2</th>\n",
       "      <th>NOx</th>\n",
       "      <th>Benzene</th>\n",
       "      <th>Xylene</th>\n",
       "      <th>AQI</th>\n",
       "      <th>PM2.5</th>\n",
       "      <th>AQI_Bucket</th>\n",
       "    </tr>\n",
       "  </thead>\n",
       "  <tbody>\n",
       "    <tr>\n",
       "      <th>0</th>\n",
       "      <td>1.81</td>\n",
       "      <td>88.23</td>\n",
       "      <td>29.74</td>\n",
       "      <td>71.75</td>\n",
       "      <td>92.86</td>\n",
       "      <td>9.10</td>\n",
       "      <td>90.0</td>\n",
       "      <td>66.74</td>\n",
       "      <td>3.0</td>\n",
       "    </tr>\n",
       "    <tr>\n",
       "      <th>1</th>\n",
       "      <td>1.68</td>\n",
       "      <td>32.30</td>\n",
       "      <td>93.50</td>\n",
       "      <td>234.88</td>\n",
       "      <td>6.33</td>\n",
       "      <td>9.85</td>\n",
       "      <td>325.0</td>\n",
       "      <td>146.75</td>\n",
       "      <td>5.0</td>\n",
       "    </tr>\n",
       "    <tr>\n",
       "      <th>2</th>\n",
       "      <td>0.28</td>\n",
       "      <td>0.06</td>\n",
       "      <td>31.26</td>\n",
       "      <td>58.16</td>\n",
       "      <td>0.00</td>\n",
       "      <td>0.00</td>\n",
       "      <td>75.0</td>\n",
       "      <td>5.60</td>\n",
       "      <td>3.0</td>\n",
       "    </tr>\n",
       "    <tr>\n",
       "      <th>3</th>\n",
       "      <td>2.23</td>\n",
       "      <td>3.75</td>\n",
       "      <td>15.57</td>\n",
       "      <td>25.20</td>\n",
       "      <td>2.44</td>\n",
       "      <td>2.61</td>\n",
       "      <td>318.0</td>\n",
       "      <td>158.43</td>\n",
       "      <td>5.0</td>\n",
       "    </tr>\n",
       "    <tr>\n",
       "      <th>4</th>\n",
       "      <td>1.43</td>\n",
       "      <td>9.10</td>\n",
       "      <td>54.53</td>\n",
       "      <td>31.27</td>\n",
       "      <td>1.97</td>\n",
       "      <td>1.30</td>\n",
       "      <td>128.0</td>\n",
       "      <td>65.50</td>\n",
       "      <td>1.0</td>\n",
       "    </tr>\n",
       "  </tbody>\n",
       "</table>\n",
       "</div>"
      ],
      "text/plain": [
       "     CO  Toluene    NO2     NOx  Benzene  Xylene    AQI   PM2.5  AQI_Bucket\n",
       "0  1.81    88.23  29.74   71.75    92.86    9.10   90.0   66.74         3.0\n",
       "1  1.68    32.30  93.50  234.88     6.33    9.85  325.0  146.75         5.0\n",
       "2  0.28     0.06  31.26   58.16     0.00    0.00   75.0    5.60         3.0\n",
       "3  2.23     3.75  15.57   25.20     2.44    2.61  318.0  158.43         5.0\n",
       "4  1.43     9.10  54.53   31.27     1.97    1.30  128.0   65.50         1.0"
      ]
     },
     "execution_count": 27,
     "metadata": {},
     "output_type": "execute_result"
    }
   ],
   "source": [
    "test_data.head()"
   ]
  },
  {
   "cell_type": "code",
   "execution_count": 28,
   "metadata": {},
   "outputs": [],
   "source": [
    "knn_hyper = joblib.load('rf_hyper.pkl')"
   ]
  },
  {
   "cell_type": "code",
   "execution_count": 29,
   "metadata": {},
   "outputs": [],
   "source": [
    "y_pred = knn_hyper.predict(X_test)"
   ]
  },
  {
   "cell_type": "code",
   "execution_count": 30,
   "metadata": {},
   "outputs": [
    {
     "data": {
      "text/plain": [
       "array([3., 5., 3., ..., 3., 3., 1.])"
      ]
     },
     "execution_count": 30,
     "metadata": {},
     "output_type": "execute_result"
    }
   ],
   "source": [
    "y_pred"
   ]
  },
  {
   "cell_type": "code",
   "execution_count": 31,
   "metadata": {},
   "outputs": [
    {
     "name": "stdout",
     "output_type": "stream",
     "text": [
      "              precision    recall  f1-score   support\n",
      "\n",
      "         0.0       1.00      1.00      1.00      6610\n",
      "         1.0       0.99      1.00      1.00     30679\n",
      "         2.0       1.00      1.00      1.00      7808\n",
      "         3.0       1.00      0.99      1.00     22321\n",
      "         4.0       1.00      1.00      1.00      4375\n",
      "         5.0       1.00      0.99      1.00      8833\n",
      "\n",
      "    accuracy                           1.00     80626\n",
      "   macro avg       1.00      1.00      1.00     80626\n",
      "weighted avg       1.00      1.00      1.00     80626\n",
      "\n"
     ]
    }
   ],
   "source": [
    "print(classification_report(y_test, y_pred))"
   ]
  },
  {
   "cell_type": "code",
   "execution_count": 32,
   "metadata": {},
   "outputs": [
    {
     "data": {
      "text/plain": [
       "<Axes: >"
      ]
     },
     "execution_count": 32,
     "metadata": {},
     "output_type": "execute_result"
    },
    {
     "data": {
      "image/png": "[encoded data removed]",
      "text/plain": [
       "<Figure size 640x480 with 2 Axes>"
      ]
     },
     "metadata": {},
     "output_type": "display_data"
    }
   ],
   "source": [
    "cf_metrics = confusion_matrix(y_test, y_pred)\n",
    "sns.heatmap(cf_metrics, annot=True, fmt='d', cmap='Blues')"
   ]
  },
  {
   "cell_type": "markdown",
   "metadata": {},
   "source": [
    "Model memiliki performa terbaik karena dapat melakukan prediksi dengan data test yang berbeda dengan proses pembuatannya. Akurasi yang didapatkan yaitu 100%, namun ketika dilakukan pengecekan dengan confusion matrix terdapat beberapa data yang gagal memprediksi, namun secara garis besar model memiliki performa yang sangat baik."
   ]
  }
 ],
 "metadata": {
  "kernelspec": {
   "display_name": "Hacktiv8-Milestone-2",
   "language": "python",
   "name": "python3"
  },
  "language_info": {
   "codemirror_mode": {
    "name": "ipython",
    "version": 3
   },
   "file_extension": ".py",
   "mimetype": "text/x-python",
   "name": "python",
   "nbconvert_exporter": "python",
   "pygments_lexer": "ipython3",
   "version": "3.11.5"
  }
 },
 "nbformat": 4,
 "nbformat_minor": 2
}
